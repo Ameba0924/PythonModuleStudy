{
 "cells": [
  {
   "cell_type": "code",
   "execution_count": 2,
   "metadata": {},
   "outputs": [
    {
     "name": "stdout",
     "output_type": "stream",
     "text": [
      "발생된 예외 클래스 :  <class 'ZeroDivisionError'>\n",
      "발생된 예외 이유 :  division by zero\n"
     ]
    }
   ],
   "source": [
    "#예외 처리 \n",
    "\n",
    "#예외 : 실행중 여러요인에의해 일어나는 오류들 \n",
    "#예외 처리 : 예외처리를통해 발생한 예외를 해결해서 프로그램이 바로 종료하는일없도록 만들기위한일 \n",
    "\n",
    "#오류 종류\n",
    "#syntaxError : 잘못된 구문 ex)for i n range(3) \n",
    "#ZeroDivisionError : 어떠한수를 0으로 나누려고했을때\n",
    "#ValueError : 잘못된값을 사용했을때 ex) n = int('3,000') \n",
    "#ModuleNotFoundError : 존재하지 않는 모듈을 불러왔을때\n",
    "#IndexError : 잘못된 첨자 사용 ex) a=[] a[0] ? \n",
    "#FileNotFoundError : 존재하지 않는 파일을 열려고 했을때\n",
    "#NameError : 정의 되지 않은 변수를 사용하려고 했을때 , ex) 연산시 data += 1 ==> data가정의되지않았는데 연산+= 을하려했음\n",
    "#KeyError : 딕셔너리에서 잘못된 키값(딕셔너리에없는키)으로 접근하려고하였을때\n",
    "\n",
    "#파이썬에서의 예외처리\n",
    "#try~except 구문으로 처리한다\n",
    "#except 구문에는 처리방법을 써줘야하는데 마땅히 쓸것이없으면 pass 라는 구문을 넣어줄수있다.\n",
    "#pass라는 구문없이 아무런처리가없을때는 IndentationError가 발생한다.\n",
    "\n",
    "#조금더 구체적인 예외처리방법으로는\n",
    "#except 발생된예외객체 상위클래스이름(Exception) as 변수이름  ==> type(변수이름) 을 사용해서 발생한 예외의 클래스이름을 알수있고,\n",
    "#print(변수이름) 을 통해서 발생된 예외의 원인을 알수있다.\n",
    "#최상위 BaseException -> Exception -> 각종예외 \n",
    "#11-1코딩\n",
    "try:\n",
    "    10/0\n",
    "except BaseException as e:\n",
    "    print('발생된 예외 클래스 : ',type(e))\n",
    "    print('발생된 예외 이유 : ',e)"
   ]
  },
  {
   "cell_type": "code",
   "execution_count": 4,
   "metadata": {},
   "outputs": [
    {
     "name": "stdout",
     "output_type": "stream",
     "text": [
      "예외 발생 클래스 : <class 'IndexError'>\n",
      "예외 발생 원인 : list index out of range\n",
      "예외처리가잘되는군요!\n"
     ]
    }
   ],
   "source": [
    "#예외처리구문\n",
    "#try : 예외가 의심되는 문장들을 나열 \n",
    "#except : 예외가 났을때 처리하는 문장을 나열\n",
    "#else : 예외가 일어나지 않았을때 문장을 나열\n",
    "#finally : 예외가 있든없든 무조건 실행하는 문장을 나열 \n",
    "\n",
    "#11-2 코딩 IndexError 예외 처리\n",
    "lst = ['C/C++','java','c#','python']\n",
    "\n",
    "try:\n",
    "    print(lst[4])\n",
    "except Exception as e:\n",
    "    print('예외 발생 클래스 :' ,type(e))\n",
    "    print('예외 발생 원인 :',e)\n",
    "else:\n",
    "    print('잘 실행 됬습니다.')\n",
    "finally:\n",
    "    print('예외처리가잘되는군요!')"
   ]
  },
  {
   "cell_type": "code",
   "execution_count": null,
   "metadata": {},
   "outputs": [],
   "source": [
    "#11-3 코딩 pass\n",
    "\n",
    "#ValueError 가 났을때 대처하는방법에 대해서 서술중.\n"
   ]
  },
  {
   "cell_type": "code",
   "execution_count": 7,
   "metadata": {},
   "outputs": [
    {
     "name": "stdout",
     "output_type": "stream",
     "text": [
      "정수 입력>0.0\n",
      "ecept ValueError as exp:\n",
      "\t 예외 발생 이름 : <class 'ValueError'>\n",
      "\t 예외 발생 원인 : invalid literal for int() with base 10: '0.0'\n",
      "\t 입력한 값이 정수가 아닙니다.\n",
      "정수입력시 X를 누르면 종료합니다. 다시해보세요 \n",
      "정수 입력>00\n",
      "0이 아닌 정수 입력 >00\n",
      "except ZeroDivisionError as exp:\n",
      "\t 예외 발생 이름 : <class 'ZeroDivisionError'>\n",
      "\t 예외 발생 이유 : division by zero\n",
      "\t 0으로는 나눌수 없습니다.\n",
      "정수입력시 X를 누르면 종료합니다. 다시해보세요 \n",
      "정수 입력>x\n",
      "ecept ValueError as exp:\n",
      "\t 예외 발생 이름 : <class 'ValueError'>\n",
      "\t 예외 발생 원인 : invalid literal for int() with base 10: 'x'\n",
      "\t 입력한 값이 정수가 아닙니다.\n",
      "종료합니다\n"
     ]
    }
   ],
   "source": [
    "#예외처리 except구문은 여러개 사용할수도있고 \n",
    "#except(Error1,Error2) 이런식으로도 여러가지 에러처리가가능하다.\n",
    "\n",
    "#11-4코딩 \n",
    "\n",
    "while True:\n",
    "    try:\n",
    "        xstr = input('정수 입력>')\n",
    "        x = int(xstr)\n",
    "        y = int(input('0이 아닌 정수 입력 >'))\n",
    "        prod = x*y\n",
    "        divd = x/y\n",
    "        \n",
    "    except ZeroDivisionError as exp: #첫번째 예외 처리 \n",
    "        print('except ZeroDivisionError as exp:')\n",
    "        print('\\t 예외 발생 이름 : {}'.format(type(exp)))\n",
    "        print('\\t 예외 발생 이유 : {}'.format(exp))\n",
    "        print('\\t 0으로는 나눌수 없습니다.')\n",
    "    except ValueError as exp: #두번째 예외처리\n",
    "        print('except ValueError as exp:')\n",
    "        print('\\t 예외 발생 이름 : {}'.format(type(exp)))\n",
    "        print('\\t 예외 발생 원인 : {}'.format(exp))\n",
    "        print('\\t 입력한 값이 정수가 아닙니다.')\n",
    "    else: #예외가 발생하지않았을때 실행\n",
    "        print('{} x {} = {}'.format(x,y,prod))\n",
    "        print('{} / {} = {}'.format(x,y,divd))\n",
    "    \n",
    "    finally: #무조건적으로실행\n",
    "        if xstr in ['x','X']: #처음 정수입력시 x/X키가 입력될경우 \n",
    "            print('종료합니다') #종료문구출력\n",
    "            break #반복문 break *while정지*\n",
    "        print('정수입력시 X를 누르면 종료합니다. 다시해보세요 ')"
   ]
  },
  {
   "cell_type": "code",
   "execution_count": 11,
   "metadata": {},
   "outputs": [
    {
     "name": "stdout",
     "output_type": "stream",
     "text": [
      "양의 정수 입력 >10\n",
      "10!=3628800\n",
      "**********프로그램 종료 !***********\n"
     ]
    }
   ],
   "source": [
    "#raise를 통한 예외 직접 발생하기\n",
    "\n",
    "#만약에 입력문에서 내가 정수입력만 받고싶었을경우! 직접 예외를 발생시킬수있는데\n",
    "# n = int(input('양의 정수 입력'))\n",
    "# if n <= 0:\n",
    "#    raise Exception('양의 정수를 입력하세요.')\n",
    "\n",
    "\n",
    "#11-5코딩 직접 예외를 발생시켜 예외 처리 \n",
    "import math\n",
    "\n",
    "\n",
    "try:\n",
    "    n = int(input('양의 정수 입력 >'))\n",
    "    if n <= 0: # 입력한값이 음수일경우\n",
    "        raise Exception('양의 정수를 입력하세요.') # Exception 이라는 이름의 오류를만들고 메세지를 내가 직접 만든다.\n",
    "        \n",
    "except ValueError as exp:\n",
    "        print('\\t 예외 발생 이름 : {}'.format(type(exp)))\n",
    "        print('\\t 예외 발생 이유 : {}'.format(exp))\n",
    "        print('\\t 입력한값이 정수가 아닙니다.')\n",
    "except Exception as e:\n",
    "        print('\\t 예외 발생 이름 : {}'.format(type(e)))\n",
    "        print('\\t 예외 발생 이유 : {}'.format(e))\n",
    "        print('\\t 입력한값이 0이거나 음수입니다.')\n",
    "else:\n",
    "        print('{}!={}'.format(n,math.factorial(n)))\n",
    "        \n",
    "finally:\n",
    "        print('프로그램 종료 !'.center(30,'*'))"
   ]
  },
  {
   "cell_type": "code",
   "execution_count": null,
   "metadata": {},
   "outputs": [],
   "source": [
    "#파일 입출력\n",
    "#프로그램 실행중 발생한 변수는 RAM에 저장되며 휘발성메모리이다.\n",
    "#예전 정보를 불러오려면 파일이 필요한대, 이 파일은 보조기억장치에 관련정보를 저장하고있으며,이름 날짜 속성등을 지니고있다.\n",
    "\n",
    "#file은 open으로 열여야하고 close로 닫아줘야한다 ==> open('파일명','모드설정')  ** 모드설정의 기본은 r이다 생략해도된다 ** \n",
    "#읽기모드 쓰기모드는 w,r 등으로 모드를 정해주어야한다. a = 추가모드 \n",
    "#파일에 어떠한값을 넣기위해선 함수를사용해야하는데 file.write('문자열') write는 문자열만 사용가능하다.\n",
    "#모드는 쓰기모드의 w,wt 가 있고 읽기모드인 r이있다.\n",
    "#read()함수는 파일의 문자열을 읽어올수있다.\n",
    "\n",
    "#11-6코딩 파일읽고쓰기\n",
    "\n",
    "f = open('pyzen.txt','wt')\n",
    "f.write('파이썬 철학\\n')\n",
    "f.write('아름다움이 추한 것보다 낫다.\\n')\n",
    "f.write('명시적인 것이 암묵적인 것보다 낫다.\\n')\n",
    "f.close() #항상닫아줘야함\n",
    "\n",
    "f = open('pyzen.txt',mode='r') #파일을 다시연다.이번엔 읽기모드로 \n",
    "readfile = f.read() #변수를생성해서 파일을 읽는다.\n",
    "print(readfile) # 읽은파일을 출력해본다.\n",
    "f.close()  #파일을 닫는다."
   ]
  },
  {
   "cell_type": "code",
   "execution_count": null,
   "metadata": {},
   "outputs": [],
   "source": [
    "# 파일읽기에는 read()뿐만아니라.\n",
    "# readlines() 가있는데 이것은 파일의 내용을 한줄한줄 항목으로 구성된 리스트를 반환한다.\n",
    "# readline() 은 한줄씩 반환\n",
    "\n",
    "#11-7 코딩 한줄한줄씩 읽어보기\n",
    "f = open('pyzen.txt',r)\n",
    "\n",
    "while True:\n",
    "    line = f.readline()\n",
    "    if not line: break\n",
    "    print(line)\n",
    "    # print(line.strip('\\n')) ==> readline(),readlines()는 맨마지막에 항상 \\n이 붙어서 반복문이 실행될때마다한줄씩 더 띄어지기때문에 제거하고.\n",
    "    \n",
    "f.close()"
   ]
  },
  {
   "cell_type": "code",
   "execution_count": 14,
   "metadata": {},
   "outputs": [
    {
     "name": "stdout",
     "output_type": "stream",
     "text": [
      "[Errno 2] No such file or directory: 'pyzen.txt'\n",
      "*****파일 읽기 실패!******\n",
      "@@@@@@프로그램 종료!@@@@@@\n"
     ]
    }
   ],
   "source": [
    "#파일읽기 예외처리\n",
    "#파일이없으면 FileNotFoundError 가뜬다 예외처리를해보자\n",
    "try:\n",
    "    \n",
    "    f = open('pyzen.txt','r')\n",
    "\n",
    "except FileNotFoundError as e:\n",
    "    print(e)\n",
    "    print('파일 읽기 실패!'.center(20,'*'))\n",
    "    \n",
    "else:\n",
    "    for line in f.readlines():\n",
    "        print(line.strip('\\n'))\n",
    "    f.close()\n",
    "    print('파일 읽기 완료!'.center(20,'*'))\n",
    "    \n",
    "finally:\n",
    "    print('프로그램 종료!'.center(20,'@'))"
   ]
  },
  {
   "cell_type": "code",
   "execution_count": 32,
   "metadata": {},
   "outputs": [
    {
     "name": "stdout",
     "output_type": "stream",
     "text": [
      "[Errno 17] File exists: 'modex.txt'\n",
      "&&&파일 쓰기 실패! 이미있음&&&\n"
     ]
    }
   ],
   "source": [
    "# with open('파일명','모드') as file:\n",
    "#자동으로 파일을 닫아준다,\n",
    "#또한 여기서 쓰기모드를통해서 글을쓰면 ex) file.write('파이썬') 그럼 출력이 3 이나온다 내가쓴 문자수가 나온다.\n",
    "\n",
    "#파일쓰기에서 동일한 파일명으로 쓰기를시도한다면 기존에 있던 내용은 사라지고 새로쓴 내용이 저장되는데,\n",
    "#이것을 막기위해서는 mode='x' 를 사용하면된다. \n",
    "#x는 eXclusive 의 약자이며 새로운파일에만 쓰기를 진행하고,\n",
    "#이미 파일이 있는경우에는 FileExistsError가 발생한다. \n",
    "\n",
    "#writelines() 함수는 여러줄로 구성된 문자열을 \\n을 기준으로 한번에 한번에 파일에 쓰기가가능\n",
    "#lst =['하이\\n','헬로우\\n'.'안녕\\n']\n",
    "#with open('hi.txt',w) as file:\n",
    "#file.writeline(lst) 로 한번에 파일에 쓰기가능.\n",
    "\n",
    "#또한 \\n을 기준으로 여러줄로 구성되어있는 파일은 as 파일변수명설정한 변수명으로 \n",
    "#for문을통해서 한줄씩 차례로 출력이 가능하다.\n",
    "#with open('hi.txt','r') as loopfile:\n",
    "#for line in loopfile:\n",
    "#print(line,end='') 로 출력할수있다.\n",
    "\n",
    "#11-9 코딩을 해보자 파일자체를 사용해 한줄씩 읽어 콘솔에 나타내기\n",
    "\n",
    "lst = ['하이\\n','헬로우\\n','안녕\\n']\n",
    "\n",
    "try:\n",
    "    with open('modex.txt',mode='x') as file:\n",
    "        file.writelines(lst)\n",
    "    print('파일 쓰기 완료!'.center(20,'@'))\n",
    "\n",
    "except FileExistsError as exp:\n",
    "    print(exp)\n",
    "    print('파일 쓰기 실패! 이미있음'.center(20,'&'))\n",
    "\n",
    "else:\n",
    "    with open('modex.txt',mode='r') as file:\n",
    "        for line in file:\n",
    "            print(line,end='')\n",
    "    print('파일 정상 읽기 완료!'.center(20,'*'))\n"
   ]
  },
  {
   "cell_type": "code",
   "execution_count": 33,
   "metadata": {},
   "outputs": [
    {
     "name": "stdout",
     "output_type": "stream",
     "text": [
      "********바이너리 파일 쓰기 완료!********\n"
     ]
    }
   ],
   "source": [
    "#바이너리 파일쓰기\n",
    "#일반텍스트나 문자열은 파일입출력텍스트모드로 이용한다.\n",
    "#하지만 실수,정수,리스트,딕셔너리같은 파이썬 자료형은 바이너리파일로 읽고쓰기를 진행해야한다\n",
    "#표준모듈인 pickle 을 이용하고 확장자는 txt가 아닌 pic이다.\n",
    "#mode는 wb,rb와같이 writebinary / readbinary이런식으로쓰인다.\n",
    "#바이너리 자료의 출력은 pickle함수의 dump(자료형,파일이름) 으로접근가능하다.\n",
    "#생성된 바이너리파일의 특징은 노트패드와같은 텍스트편집기로는 내용을 볼수가없다.\n",
    "\n",
    "#11-10코딩\n",
    "\n",
    "import pickle as pk\n",
    "\n",
    "month = {1:'January',2:'February',3:'March',4:'April'}\n",
    "month[5] = \"May\"\n",
    "month[6] = \"June\"\n",
    "lst = ['pascal','python','java']\n",
    "\n",
    "#바이너리 파일 쓰기\n",
    "\n",
    "with open('dicmonth.pic', mode='wb') as f:\n",
    "    pk.dump(month,f)\n",
    "    pk.dump(lst,f)\n",
    "    \n",
    "print('바이너리 파일 쓰기 완료!'.center(30,'*'))"
   ]
  },
  {
   "cell_type": "code",
   "execution_count": 35,
   "metadata": {},
   "outputs": [
    {
     "name": "stdout",
     "output_type": "stream",
     "text": [
      "{1: 'January', 2: 'February', 3: 'March', 4: 'April', 5: 'May', 6: 'June'}\n",
      "['pascal', 'python', 'java']\n",
      "********바이너리 파일 읽기 완료!********\n",
      "@@@@@@@@@@프로그램종료 ! @@@@@@@@@@@\n"
     ]
    }
   ],
   "source": [
    "#바이너리파일 읽기 \n",
    "#pickle 의 load(파일명)함수로 읽는데 한번호출시 한줄을 읽는다.\n",
    "\n",
    "#11-11코딩\n",
    "import pickle as pk\n",
    "\n",
    "#바이너리 파일 읽기\n",
    "try:\n",
    "    with open('dicmonth.pic',mode='rb') as f: #파일을 열고\n",
    "        read1 = pk.load(f) #pk함수인 load를통해한줄을 읽는것을 변수에 저장 \n",
    "        read2 = pk.load(f) #다른한줄을 또 저장\n",
    "except FileNotFoundError as e: #파일이없을시에\n",
    "    print(e)\n",
    "    print('파일 읽기 실패!')\n",
    "else: #예외가 발생하지않았을경우\n",
    "    print(read1)\n",
    "    print(read2)\n",
    "    print('바이너리 파일 읽기 완료!'.center(30,'*'))\n",
    "finally:#무조건\n",
    "    print('프로그램종료 ! '.center(30,'@'))\n",
    "    "
   ]
  },
  {
   "cell_type": "code",
   "execution_count": 36,
   "metadata": {},
   "outputs": [
    {
     "name": "stdout",
     "output_type": "stream",
     "text": [
      "파일 수정 삭제 성공!\n"
     ]
    }
   ],
   "source": [
    "#파일과 폴더관련 \n",
    "#표준 모듈인 os를 불러와서 rename(old,new) 를통해서 이름을 수정할수있고, remove(file) 을통해 파일을 삭제할수있다.\n",
    "\n",
    "#11-12파일 코딩\n",
    "\n",
    "import os\n",
    "\n",
    "try:\n",
    "    with open('pyfile.txt','w') as file:\n",
    "        file.write('파일 이름 수정과 삭제')\n",
    "    os.rename('pyfile.txt','파일수정삭제.txt') # 파일 이름 수정\n",
    "    os.remove('파일수정삭제.txt') #파일 삭제\n",
    "    \n",
    "except Exception as e: #어떤 예외가 발생했을경우\n",
    "    print('예외 발생 ',e)\n",
    "else: #예외없이 정상처리됬을경우\n",
    "    print('파일 수정 삭제 성공!')"
   ]
  },
  {
   "cell_type": "code",
   "execution_count": 38,
   "metadata": {},
   "outputs": [
    {
     "name": "stdout",
     "output_type": "stream",
     "text": [
      "현재 폴더: C:\\Users\\HOBRO\\Desktop\\20111448hyeonho\n",
      "\t폴더: .ipynb_checkpoints\n",
      "\t파일: 20111448 이현호.ipynb\n",
      "\t파일: 9-10아나콘다.zip\n",
      "\t파일: dicmonth.pic\n",
      "\t파일: modex.txt\n",
      "\t파일: project 10.ipynb\n",
      "\t파일: project11.ipynb\n",
      "\t파일: project9.ipynb\n",
      "\t파일: Untitled.ipynb\n",
      "\t파일: 연습문제.ipynb\n",
      "\t파일: 주피터노트북 파일, 20185019김채린20185033오예은.ipynb\n",
      "**************종료**************\n"
     ]
    }
   ],
   "source": [
    "#다양한 폴더 관련함수  \n",
    "#os가 지원하는  함수 mkdir(dname) 은 dname폴더를 생성하고 함수 rmdir(dname)은 폴더이름이 dname인 폴더를 삭제한다.\n",
    "\n",
    "#각종 함수를 확인해보자 425page \n",
    "\n",
    "# 11-13 코딩\n",
    "\n",
    "import os\n",
    "\n",
    "dname = os.getcwd() # 현재 폴더명을 저장 \n",
    "print('현재 폴더:',dname)\n",
    "\n",
    "fs = os.listdir(dname) # 현재폴더의 하부목록을 저장\n",
    "for f in fs:\n",
    "      if os.path.isfile(f): # 만약에 하부목록중에 현재 f 파일이면 파일 -\n",
    "          print('\\t파일:',f)\n",
    "      if os.path.isdir(f): # 만약에 하부목록중에 현재 f  폴더이면 폴더 -\n",
    "          print('\\t폴더:',f)\n",
    "      \n",
    "print(\"종료\".center(30,\"*\"))      "
   ]
  },
  {
   "cell_type": "code",
   "execution_count": null,
   "metadata": {},
   "outputs": [],
   "source": []
  }
 ],
 "metadata": {
  "kernelspec": {
   "display_name": "Python 3",
   "language": "python",
   "name": "python3"
  },
  "language_info": {
   "codemirror_mode": {
    "name": "ipython",
    "version": 3
   },
   "file_extension": ".py",
   "mimetype": "text/x-python",
   "name": "python",
   "nbconvert_exporter": "python",
   "pygments_lexer": "ipython3",
   "version": "3.7.3"
  }
 },
 "nbformat": 4,
 "nbformat_minor": 2
}
