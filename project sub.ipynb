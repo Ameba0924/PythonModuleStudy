{
 "cells": [
  {
   "cell_type": "code",
   "execution_count": 3,
   "metadata": {},
   "outputs": [
    {
     "name": "stdout",
     "output_type": "stream",
     "text": [
      "dict_keys(['봄 ', '여름', '가을', '겨울'])\n",
      "dict_items([('봄 ', 'spring'), ('여름', 'summer'), ('가을', 'autumn'), ('겨울', 'winter')])\n",
      "dict_values(['spring', 'summer', 'autumn', 'winter'])\n",
      "봄  spring \n",
      "여름 summer \n",
      "가을 autumn \n",
      "겨울 winter \n",
      "봄  spring  여름 summer  가을 autumn  겨울 winter  \n",
      "봄  spring  여름 summer  가을 autumn  겨울 winter  \n"
     ]
    }
   ],
   "source": [
    "#ch6) 6-5\n",
    "season = {'봄 ' : 'spring','여름' : 'summer','가을': 'autumn', '겨울': 'winter'}\n",
    "print(season.keys())\n",
    "print(season.items())\n",
    "print(season.values())\n",
    "\n",
    "#메소드 keys()로 항목 순회\n",
    "for key in season.keys():\n",
    "    print('%s %s ' % (key,season[key]))\n",
    "    \n",
    "for item in season.items():\n",
    "    print('{} {} '.format(item[0], item[1]), end = ' ')\n",
    "print()\n",
    "#메소드 items()의 반환 값인 튜플을 한 변수에 저장한 경우, 항목 순회 2\n",
    "for item in season.items():\n",
    "    print('{} {} '.format(*item), end = ' ')\n",
    "print()"
   ]
  },
  {
   "cell_type": "code",
   "execution_count": 4,
   "metadata": {},
   "outputs": [
    {
     "name": "stdout",
     "output_type": "stream",
     "text": [
      "{'검은색': 'black', '흰색': 'white', '녹색': 'green', '파란색': 'blue'}\n",
      "green\n",
      "None\n",
      "\n",
      "{'검은색': 'black', '흰색': 'white', '녹색': 'green', '파란색': 'blue', '노란색': 'yellow'}\n",
      "\n",
      "삭제 : 흰색 white\n",
      "{'검은색': 'black', '녹색': 'green', '파란색': 'blue', '노란색': 'yellow'}\n",
      "삭제: 빨간색 없어요\n",
      "임의 삭제: ('노란색', 'yellow') \n",
      "임의 삭제 후: {'검은색': 'black', '녹색': 'green', '파란색': 'blue'} \n",
      "검은색 삭제 후 : {'녹색': 'green', '파란색': 'blue'}\n",
      "{}\n"
     ]
    }
   ],
   "source": [
    "#ch6) 6-6\n",
    "color = dict(검은색 = 'black', 흰색 = 'white', 녹색 = 'green', 파란색 ='blue')\n",
    "print(color)\n",
    "\n",
    "#항목조회\n",
    "print(color.get('녹색'))\n",
    "print(color.get('노란색'))\n",
    "print()\n",
    "\n",
    "#항목추가\n",
    "color['노란색'] = 'yellow'\n",
    "print(color)\n",
    "print()\n",
    "\n",
    "#항목삭제\n",
    "c = '흰색'\n",
    "print('삭제 : %s %s' % (c,color.pop('흰색')))\n",
    "print(color)\n",
    "c = '빨간색'\n",
    "print('삭제: %s %s' % (c,color.pop(c,'없어요')))\n",
    "\n",
    "print('임의 삭제: {} '.format(color.popitem()))\n",
    "print('임의 삭제 후: {} '.format(color))\n",
    "\n",
    "c = '검은색'\n",
    "del color[c]\n",
    "print('{} 삭제 후 : {}'.format(c,color))\n",
    "\n",
    "#모든 항목 삭제\n",
    "color.clear()\n",
    "print(color)"
   ]
  },
  {
   "cell_type": "code",
   "execution_count": 7,
   "metadata": {},
   "outputs": [
    {
     "data": {
      "text/plain": [
       "{1, 2, 3}"
      ]
     },
     "execution_count": 7,
     "metadata": {},
     "output_type": "execute_result"
    }
   ],
   "source": [
    "#set(1,2,3)은 오류발생함\n",
    "set((1,2,3))"
   ]
  },
  {
   "cell_type": "code",
   "execution_count": 10,
   "metadata": {},
   "outputs": [
    {
     "name": "stdout",
     "output_type": "stream",
     "text": [
      "31 15 5 26 15 36 3 \n",
      "집합: {3, 36, 5, 15, 26, 31}\n",
      "정렬 리스트: [3, 5, 15, 26, 31, 36]\n",
      "\n",
      "sample 함수 리스트 : [29, 11, 31, 39, 43, 40]\n",
      "sample 함수 정렬 리스트 : [11, 29, 31, 39, 40, 43]\n"
     ]
    }
   ],
   "source": [
    "#ch6) 6-8\n",
    "from random import randrange\n",
    "from random import sample\n",
    "\n",
    "#randrange() 함수와 집합을 이용, 중복 제거\n",
    "mylotto = set()\n",
    "while True:\n",
    "    num = randrange(1,46)\n",
    "    print(num, end =' ')\n",
    "    mylotto.add(num)\n",
    "    if len(mylotto) == 6:\n",
    "        break\n",
    "print()\n",
    "print('집합: {}'.format(mylotto))\n",
    "print('정렬 리스트: {}'.format(sorted(mylotto)))\n",
    "print()\n",
    "\n",
    "#sample() 함수를 이용하면 매우 간편\n",
    "lotto = sample(range(1, 46),6)\n",
    "print('sample 함수 리스트 : {}'.format(lotto))\n",
    "print('sample 함수 정렬 리스트 : {}'.format(sorted(lotto)))"
   ]
  },
  {
   "cell_type": "code",
   "execution_count": 1,
   "metadata": {},
   "outputs": [
    {
     "name": "stdout",
     "output_type": "stream",
     "text": [
      "{'토', '수', '목', '월', '일', '금', '화'}\n",
      "{'수', '목', '월', '금', '화'}\n",
      "{'수', '목'}\n",
      "{'토', '월', '일', '화', '금'}\n"
     ]
    }
   ],
   "source": [
    "#ch6) 6-9\n",
    "daysA = {'월','화','수','목'}\n",
    "daysB = set(['수', '목', '금', '토', '일'])\n",
    "weekends = set(('토','일'))\n",
    "\n",
    "alldays = daysA | daysB #a,b가 합쳐지면 7개요일 출력됨(순서는 뒤죽박죽)\n",
    "print(alldays)\n",
    "\n",
    "workdays = alldays - weekends #7개 요일 - 토일\n",
    "print(workdays)\n",
    "\n",
    "print(daysA & daysB) #a,b 교집합 수,목 출력\n",
    "print(daysA.symmetric_difference(daysB))#교집합을 뺀 나머지 요일"
   ]
  },
  {
   "cell_type": "code",
   "execution_count": 6,
   "metadata": {},
   "outputs": [
    {
     "name": "stdout",
     "output_type": "stream",
     "text": [
      "['축구', '야구', '농구', '배구']\n",
      "[11, 9, 5, 6]\n",
      "\n",
      "함수 zip():\n",
      "축구 : 11명 야구 : 9명 농구 : 5명 배구 : 6명 \n",
      "축구: 11명 야구: 9명 농구: 5명 배구: 6명 \n",
      "\n",
      "함수 dick(zip()):\n",
      "{'축구': 11, '야구': 9, '농구': 5, '배구': 6}\n"
     ]
    }
   ],
   "source": [
    "#ch6) 6-10\n",
    "#rnrl whdahr fltmxm\n",
    "sports = ['축구','야구','농구','배구']\n",
    "#위 종목에 대응하는 팀원 수를 항목으로 구성\n",
    "num = [11,9,5,6]\n",
    "print(sports)\n",
    "print(num)\n",
    "print()\n",
    "\n",
    "print('함수 zip():')\n",
    "for s, i in zip(sports,num):\n",
    "    print('%s : %d명' % (s,i), end = ' ')\n",
    "print()\n",
    "for tp in zip(sports, num):\n",
    "    print('{}: {}명'.format(*tp), end = ' ')\n",
    "print(); print()\n",
    "\n",
    "#dict()와 zip() 함수로 종목의 이름을 키, 인원수를 값으로 저장\n",
    "print('함수 dick(zip()):')\n",
    "sportsnum = dict(zip(sports, num))\n",
    "print(sportsnum)"
   ]
  },
  {
   "cell_type": "code",
   "execution_count": 9,
   "metadata": {},
   "outputs": [
    {
     "name": "stdout",
     "output_type": "stream",
     "text": [
      "********************\n",
      "철수   영희   승자  \n",
      "********************\n",
      "가위   바위   영희  \n",
      "보오   보오   비김  \n",
      "가위   가위   비김  \n",
      "가위   가위   비김  \n",
      "보오   보오   비김  \n",
      "가위   보오   철수  \n",
      "보오   바위   철수  \n",
      "가위   보오   철수  \n",
      "보오   보오   비김  \n",
      "보오   가위   영희  \n"
     ]
    }
   ],
   "source": [
    "#ch6) LAB1\n",
    "#게임의 회수는 20으로 하고 매번 승자의 승리회수or비긴회수가 출력\n",
    "#마지막에는 비긴회수와 각각의 승률이 출력\n",
    "\n",
    "from random import choice\n",
    "dcs = {'가위':'보오','바위':'가위','보오':'바위'}\n",
    "tit = ['비김','철수','영희','승자']\n",
    "rsp = ('가위','바위','보오')\n",
    "\n",
    "print('*'*20)\n",
    "print('{:4} {:4} {:4}'.format(tit[1], tit[2], tit[3]))\n",
    "print('*'*20)\n",
    "\n",
    "for _ in range(10):\n",
    "    cs = choice(rsp)\n",
    "    yh = choice(rsp)\n",
    "\n",
    "    print('{:4} {:4}'.format(cs, yh), end = ' ')\n",
    "    \n",
    "    if cs == yh:\n",
    "        index = 0\n",
    "    elif dcs[cs] == yh:\n",
    "        index = 1\n",
    "    else:\n",
    "        index = 2\n",
    "    print('{:4}'.format(tit[index]))    "
   ]
  },
  {
   "cell_type": "code",
   "execution_count": 10,
   "metadata": {},
   "outputs": [
    {
     "name": "stdout",
     "output_type": "stream",
     "text": [
      "섭씨: 28, 화씨 : 82.40\n",
      "섭씨: 30, 화씨 : 86.00\n",
      "섭씨: 32, 화씨 : 89.60\n",
      "섭씨: 34, 화씨 : 93.20\n",
      "섭씨: 32.22, 화씨: 90\n",
      "섭씨: 33.89, 화씨: 93\n",
      "섭씨: 35.56, 화씨: 96\n",
      "섭씨: 37.22, 화씨: 99\n",
      "섭씨: 38.89, 화씨: 102\n"
     ]
    }
   ],
   "source": [
    "#ch7) 7-5\n",
    "def ctofahrenhite(cels):\n",
    "    \"\"\"인자인 섭씨 온도 cels을 화씨 온도로 변환해 변환\"\"\"\n",
    "    return cels * 9/5 + 32\n",
    "\n",
    "def ftocelsius(fahr):\n",
    "    \"\"\"인자인 화씨 온도 fahr을 섭씨 온도로 변환해 변환\"\"\"\n",
    "    return (fahr - 32) * 5/9\n",
    "\n",
    "for cels in range(28, 35, 2):\n",
    "    print('섭씨: {}, 화씨 : {:.2f}'.format(cels, ctofahrenhite(cels)))\n",
    "\n",
    "for fahr in range(90, 103, 3):\n",
    "    print('섭씨: {:.2f}, 화씨: {}'.format(ftocelsius(fahr),fahr))"
   ]
  },
  {
   "cell_type": "code",
   "execution_count": null,
   "metadata": {},
   "outputs": [],
   "source": []
  }
 ],
 "metadata": {
  "kernelspec": {
   "display_name": "Python 3",
   "language": "python",
   "name": "python3"
  },
  "language_info": {
   "codemirror_mode": {
    "name": "ipython",
    "version": 3
   },
   "file_extension": ".py",
   "mimetype": "text/x-python",
   "name": "python",
   "nbconvert_exporter": "python",
   "pygments_lexer": "ipython3",
   "version": "3.7.3"
  }
 },
 "nbformat": 4,
 "nbformat_minor": 2
}
