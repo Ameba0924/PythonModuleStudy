{
 "cells": [
  {
   "cell_type": "code",
   "execution_count": 10,
   "metadata": {},
   "outputs": [
    {
     "name": "stdout",
     "output_type": "stream",
     "text": [
      "홍길동 가 인사합니다 \n"
     ]
    }
   ],
   "source": [
    "#project12 객체 지향 프로그래밍 \n",
    "\n",
    "#객체지향프로그래밍이란? --> 속성과행위로구성된객체들끼리의 상호작용으로 프로그래밍을 구현하는 방식\n",
    "#객체란 ? -> 현실세계의 모든것, 사물과 개념이 바로 객체 \n",
    "\n",
    "#Class(클래스)란?\n",
    "#객체를 만들어내기위한 틀/집합체/설계도 이다.\n",
    "#클래스의 내부는 객체들이 가져야할 속성과 행동들로 이루어져 있는데,\n",
    "#속성은 --> 객체의 상태를 정의 \n",
    "#행위는 --> 객체가 취할수있는 행동의 절차라고 이해하는게 빠를것이다.\n",
    "\n",
    "#실제 코딩에서는 속성-변수 , 행동-메소드로 구분된다.\n",
    "#객체는 클래스로부터 만들어진 구체적실체로 , 자신만의 고유한 속성과 메소드를 갖는다. \n",
    "#---> 결론적으로 객체를 인스턴스(instance) 라고 부른다.\n",
    "\n",
    "#객체선언방법은 키워드class 후에 클래스명 : 으로 이루어진다 안에 클래스내부를 구성하는데 없으면 pass를 기술 \n",
    "#class Person:\n",
    "#       pass\n",
    "\n",
    "#클래스의 내부정보를 확인하는방법은 내장함수 dir(클래스명) 으로 내부정보를 확인할수있다 ex) dir(list) 리스트클래스의 내부정보를 확인\n",
    "\n",
    "#dir(Person) 시에 나타나는 __dict__ 는 클래스내부의 객체나 속성을 저장하는데 사용되는 사전을 의미하고\n",
    "#__doc__ 은 클래스내부에 저장되어있는 문자열이 키값으로 지정된것을 확인할수있다.\n",
    "\n",
    "#Person.__dict__ 를 검색하면 그안에 들어가있는 각종 객체속성등을 확인할수있다. \n",
    "\n",
    "#위에서 만들어놓은 Person클래스의 객체를 하나 생성해보자.\n",
    "# personinstance = Person()  < 클래스객체 생성\n",
    "# print(type(personinstance)) 또는 print(personinstance) 또는 help(personinstance)객체의 정보를 확인할수있다.Person의 객체라고 나올것이다.\n",
    "\n",
    "# 객체 변수 설정 방법\n",
    "\n",
    "# she=Person()  => Person 클래스객체 she 생성\n",
    "# he = Person() => Person 클래스객체 he 생성\n",
    "# he.name = '홍길동'  ==> 객체.변수명 = 값 클래스객체의 변수를 선언하기위해서는 이런식으로 .으로 구분시켜줘야한다.\n",
    "#print(he.name) ==>홍길동출력\n",
    "#print(she.name) ==> 오류 AttributeError (she객체는 생성했지만 그안에 속성값이 설정되어있지않아서 오류발생)\n",
    "\n",
    "#클래스안에 객체가 생성되어있는지 확인하는방법 => 내장함수 isinstance() 로 확인이가능한대\n",
    "#print(instance(she,Person)) ==> 이런식으로 instance(객체명,클래스명) 으로 T,F 값으로 있는지 없는지 확인이 가능함.\n",
    "\n",
    "#만들어진 클래스안에 함수를 만들어서 연결할수있다.\n",
    "\n",
    "class Person: #클래스생성\n",
    "    '''사람을 표현하는 클래스'''\n",
    "    pass\n",
    "\n",
    "def hello(p): #함수생성() 인자로 자기자신을 담아줘야함\n",
    "    print('%s 가 인사합니다 '% p.name)\n",
    "\n",
    "Person.himethod = hello   # 함수 연결 선언을 꼭해줘야함 , 클래스명.변수명 = 함수명 **변수명을 다르게해도되지만 이왕이면 함수명과 같게**\n",
    "#Person클래스의 변수 himethod 로 hello함수를 사용할수있다는 뜻 \n",
    "\n",
    "he = Person()\n",
    "\n",
    "he.name = '홍길동'\n",
    "\n",
    "he.himethod()  ## 이름 선언 참고 !  다르게해도됨 \n",
    "\n",
    "        \n"
   ]
  },
  {
   "cell_type": "code",
   "execution_count": 13,
   "metadata": {},
   "outputs": [
    {
     "name": "stdout",
     "output_type": "stream",
     "text": [
      "이현호 28\n",
      "이현호 가(이) 인사합니다\n",
      "True\n",
      "하지영 22\n",
      "하지영 가(이) 인사합니다\n",
      "True\n"
     ]
    }
   ],
   "source": [
    "#10-1코딩 간단한 클래스의 정의와 활용\n",
    "\n",
    "class Person:\n",
    "    pass\n",
    "\n",
    "def hello(myself):\n",
    "    print('%s 가(이) 인사합니다' % myself.name)\n",
    "\n",
    "Person.Hi = hello # 함수연결\n",
    "\n",
    "he = Person()\n",
    "he.name='이현호'\n",
    "he.age = 28\n",
    "print(he.name,he.age)\n",
    "he.Hi() #연결한 함수호출\n",
    "print(isinstance(he,Person)) # he라는 객체가 Person에있는지.\n",
    "\n",
    "she = Person()\n",
    "she.name='하지영'\n",
    "she.age=22\n",
    "print(she.name,she.age)\n",
    "she.Hi() # Person 에 연결했기때문에 Person 객체는 무엇이든 연결한 함수를 사용할수있다. \n",
    "print(isinstance(she,Person))\n"
   ]
  },
  {
   "cell_type": "code",
   "execution_count": 18,
   "metadata": {},
   "outputs": [
    {
     "name": "stdout",
     "output_type": "stream",
     "text": [
      "안녕하세요 가수 아이유 입니다.\n",
      "데뷔한지 13년이 되었네요.\n",
      "\n",
      "안녕하세요 가수 BTS 입니다.\n",
      "데뷔한지 10년이 되었네요.\n",
      "\n"
     ]
    }
   ],
   "source": [
    "#함수를 클래스밖이아닌, 클래스안에서 생성해보자\n",
    "\n",
    "#class Singer:\n",
    "#    def introduce(self):\n",
    "#        print('안녕하세요.가수 %s 입니다.' % self.name) #안에서 함수를 지정할때는 무조건 첫번째인자에 자기자신을의미하는 self가 와야함\n",
    "                                                        #self.name 은 자기자신의 이름을 이야기하므로 연결된 객체(self)의 name을 뜻한다.\n",
    "    \n",
    "#클래스객체를 만들때 호출(특별한메소드)되며 사용되는 초기화 메소드(initailize) 를 구현해보자. 주로 속성값을 저장함.\n",
    "#초기화 메소드는 def __init__(slef,---,---) 이런식으로 구성되고 첫번째인자는 반드시 self 가 와야한다.\n",
    "#이후에 기술되는 인자값은 정해서 기술할수있으며, 예를들어서 이름과 나이를 호출할때 메소드로 자료를 넘겨줄것이면,\n",
    "# def __init__(self,name,age) 이런식으로 정해주고 \n",
    "# self.name = name\n",
    "# self.age = age 로 처리하면 넘겨온 클래스객체의 name 과  age 값이 저장이된다. \n",
    "\n",
    "# BTS = Singer('방탄소년단','2011') 이런식으로 Singer클래스의 객체생성을 할수있다, self는 객체자체가 자동으로 전달되므로 기술할필요없음\n",
    "\n",
    "# 12-2 코딩 \n",
    "\n",
    "class Singer:\n",
    "    '''가수를 나타내는 클래스'''\n",
    "    def __init__(self,name,debut):\n",
    "        self.name=name\n",
    "        self.debut=debut\n",
    "\n",
    "    def introduce(self):\n",
    "        print('안녕하세요 가수 %s 입니다.' % self.name)\n",
    "    \n",
    "    def age(self):\n",
    "        print('데뷔한지 %d년이 되었네요.\\n' % (2020-self.debut +1) )\n",
    "        \n",
    "iyou = Singer('아이유',2008)\n",
    "iyou.introduce() # 기존에 Singer 클래스에 저장되어잇는 함수이므로 따로 함수연결을 할이유가없다.\n",
    "iyou.age() \n",
    "\n",
    "Bts = Singer('BTS',2011)\n",
    "Bts.introduce() \n",
    "Bts.age()\n"
   ]
  },
  {
   "cell_type": "code",
   "execution_count": 25,
   "metadata": {},
   "outputs": [
    {
     "name": "stdout",
     "output_type": "stream",
     "text": [
      "내이름은 이현호 라고한다\n"
     ]
    }
   ],
   "source": [
    "# __init__ 처럼 앞에 더블언더스코어가 붙은메소드를 '매직메소드' 라고 부른다.\n",
    "# 클래스생성후 초기화메소드기술시 인자에 초기값을 넣을수도있다.\n",
    "# ex ) def __init__(self,age=4):\n",
    "#          self.age=age\n",
    "# hajun = Person()\n",
    "# print(hajun.age) ==> 값 4출력 \n",
    "\n",
    "#__str__(self) 매직메소드 ==> 자기자신객체를 문자열로 표현한다. \n",
    "#클래스객체에서 생성시 바로 사용할수있으며 문자열을 return한다.\n",
    "\n",
    "class Person:\n",
    "    def __init__(self,name):\n",
    "        self.name=name\n",
    "    def __str__(self):\n",
    "        return '내이름은 {} 라고한다'.format(self.name)\n",
    "\n",
    "\n",
    "hyeon = Person('이현호')\n",
    "print(hyeon)"
   ]
  },
  {
   "cell_type": "code",
   "execution_count": 37,
   "metadata": {},
   "outputs": [
    {
     "name": "stdout",
     "output_type": "stream",
     "text": [
      "원 반지름 : 10.00\n",
      "원 면적: 314.00 \n",
      "원 둘레: 62.80\n",
      "원 반지름 : 10\n",
      "False\n",
      "True\n"
     ]
    }
   ],
   "source": [
    "#__eq__(self,other) 동등비교메소드 True와 Flase 를 반환한다 eq로만들게되면 객체 == 객체 로 TRUE와 FALSE 를 구할수있다.\n",
    "\n",
    "#12-3코딩\n",
    "\n",
    "class Circle:\n",
    "    '''원을 표현하는 클래스 정의'''\n",
    "   \n",
    "    def __init__(self,radius = 1): # radius초기값 지정\n",
    "        self.radius = radius\n",
    "        \n",
    "    def __str__(self):\n",
    "        return '원 반지름 : {}'.format(self.radius)\n",
    "    \n",
    "    def __eq__(self,other):\n",
    "        if self.radius == other.radius:\n",
    "            return True\n",
    "        else:\n",
    "            return False\n",
    "    \n",
    "    def setradius(self,radius):\n",
    "        self.radius = radius\n",
    "        \n",
    "    def getradius(self):\n",
    "        return self.radius\n",
    "    def perimeter(self):\n",
    "    \n",
    "    def area(self):\n",
    "        return self.radius * self.radius * 3.14\n",
    "    \n",
    "        return 2* self.radius * 3.14\n",
    "    \n",
    "c1 = Circle(10)\n",
    "print('원 반지름 : %.2f' % c1.getradius())\n",
    "print('원 면적: %.2f ' % c1.area())\n",
    "print('원 둘레: %.2f' % c1.perimeter())\n",
    "print(c1) # __str__호출 \n",
    "\n",
    "c2 = Circle() #현재 반지름 1\n",
    "c2.setradius(20) # 반지름 20으로 설정\n",
    "\n",
    "c3 = Circle(10)\n",
    "print(c1==c2) #__eq__ 함수 호출  \n",
    "print(c1==c3) #__eq__ 함수 호출 \n"
   ]
  },
  {
   "cell_type": "code",
   "execution_count": 46,
   "metadata": {},
   "outputs": [
    {
     "name": "stdout",
     "output_type": "stream",
     "text": [
      "사각형 가로:2.3 세로:3.2\n",
      "사각형 가로:1.4 세로:2.8\n",
      "2 2 2\n"
     ]
    }
   ],
   "source": [
    "# 클래스 속성과 인스턴스 속성\n",
    "\n",
    "# 클래스에 소속되는 클래스속성은 class 공간블록 내부에 바로 선언해 초기값을 지정할수있다.\n",
    "#class Person:\n",
    "#    count = 0 #클래스 속성 (class Attribute)\n",
    "#    \n",
    "#    def __init__(self):\n",
    "#        Person.count += 1 #이런식으로 클래스명.속성명 으로 참조할수있다\n",
    "#        \n",
    "#p1 = Person() #__init__ 은 객체가 생성될때마다 한번 실행한다.\n",
    "#p2 = Person() # __init__ 두번째 실행 \n",
    "#print(Person.count,p1.count,p2.count) #이런식으로도 객체.속성명으로도 참조가 가능하다 하지만 같은 저장공간을 사용하는클래스변수는 동일한값을 지닌다.\n",
    "\n",
    "#인스턴스속성\n",
    "#__init__시에 사용되는 self.name , self.age 등 모두 객체가생성되었을때 객체의 저장공간에 속성을 저장하는 인스턴스 속성이라고한다. \n",
    "#인스턴스속성은 항상 객체명.속성명으로 참조해야한다!\n",
    "#ex ) class Person:\n",
    "#     p1 = Person() \n",
    "#     p1.name (객체명.속성명)\n",
    "\n",
    "#12-4 코딩 진행\n",
    "\n",
    "class Rectangle:\n",
    "    '''사각형을 표현하는 클래스 정의'''\n",
    "    count = 0 # 클래스 속성 (Class Attribute)\n",
    "    \n",
    "    def __init__(self,width,height):\n",
    "        self.width = width #인스턴스속성\n",
    "        self.height = height #인스턴스속성\n",
    "        Rectangle.count += 1 #클래스속성\n",
    "        \n",
    "    def __str__(self):\n",
    "        return '사각형 가로:{} 세로:{}'.format(self.width,self.height)\n",
    "    \n",
    "r1 = Rectangle(2.3,3.2) # Rectangle 클래스의 객체 r1 생성\n",
    "r2 = Rectangle(1.4,2.8)\n",
    "\n",
    "print(r1) #__str__매직메소드 실행 \n",
    "print(r2)\n",
    "\n",
    "print(Rectangle.count , r1.count , r2.count)"
   ]
  },
  {
   "cell_type": "code",
   "execution_count": 47,
   "metadata": {},
   "outputs": [
    {
     "name": "stdout",
     "output_type": "stream",
     "text": [
      "김영미\n"
     ]
    },
    {
     "ename": "AttributeError",
     "evalue": "'Student' object has no attribute '__GPA'",
     "output_type": "error",
     "traceback": [
      "\u001b[1;31m---------------------------------------------------------------------------\u001b[0m",
      "\u001b[1;31mAttributeError\u001b[0m                            Traceback (most recent call last)",
      "\u001b[1;32m<ipython-input-47-53c23cce13dc>\u001b[0m in \u001b[0;36m<module>\u001b[1;34m\u001b[0m\n\u001b[0;32m     12\u001b[0m \u001b[0ms\u001b[0m \u001b[1;33m=\u001b[0m \u001b[0mStudent\u001b[0m\u001b[1;33m(\u001b[0m\u001b[1;34m'김영미'\u001b[0m\u001b[1;33m,\u001b[0m\u001b[1;36m3.4\u001b[0m\u001b[1;33m)\u001b[0m\u001b[1;33m\u001b[0m\u001b[1;33m\u001b[0m\u001b[0m\n\u001b[0;32m     13\u001b[0m \u001b[0mprint\u001b[0m\u001b[1;33m(\u001b[0m\u001b[0ms\u001b[0m\u001b[1;33m.\u001b[0m\u001b[0mname\u001b[0m\u001b[1;33m)\u001b[0m \u001b[1;31m# 출력가능\u001b[0m\u001b[1;33m\u001b[0m\u001b[1;33m\u001b[0m\u001b[0m\n\u001b[1;32m---> 14\u001b[1;33m \u001b[0mprint\u001b[0m\u001b[1;33m(\u001b[0m\u001b[0ms\u001b[0m\u001b[1;33m.\u001b[0m\u001b[0m__GPA\u001b[0m\u001b[1;33m)\u001b[0m \u001b[1;31m# 출력불가능 ==> 외부에서 참조할수 없기 때문이다.\u001b[0m\u001b[1;33m\u001b[0m\u001b[1;33m\u001b[0m\u001b[0m\n\u001b[0m",
      "\u001b[1;31mAttributeError\u001b[0m: 'Student' object has no attribute '__GPA'"
     ]
    }
   ],
   "source": [
    "# 접근제어관련 \n",
    "# 파이썬은 자바랑 C++ 처럼 public private 등 접근제어자를 따로 제공하지는 않는다\n",
    "# 하지만 변수나 메소드 앞에 __ 더블언더스코어를 붙이면 private 와 같은 외부참조 불가 로 만들고\n",
    "# 아무것도 기술하지않으면 자동으로 public 으로 외부참조가 가능하다.\n",
    "# _ 하나만 기술했을 경우에는 클래스내부에서만 사용하겠다는 의미이지만 외부참조가 가능하다.\n",
    "\n",
    "class Student:\n",
    "    def __init__(self,name,grade):\n",
    "        self.name = name # public\n",
    "        self.__GPA = grade # private 외부참조 불가\n",
    "        \n",
    "s = Student('김영미',3.4)\n",
    "print(s.name) # 출력가능\n",
    "print(s.__GPA) # 출력불가능 ==> 외부에서 참조할수 없기 때문이다. AtrtributeError 가 발생한다.\n"
   ]
  },
  {
   "cell_type": "code",
   "execution_count": 50,
   "metadata": {},
   "outputs": [
    {
     "name": "stdout",
     "output_type": "stream",
     "text": [
      "예금주 :이은행 , 잔고 :10000\n",
      "입금 5000원 이후\n",
      "\t 예금주 :이은행 , 잔고 :15000\n",
      "출금 10000원 이후 :\n",
      "\t 예금주 :이은행 , 잔고 :5000\n"
     ]
    },
    {
     "ename": "AttributeError",
     "evalue": "'Account' object has no attribute '__blance'",
     "output_type": "error",
     "traceback": [
      "\u001b[1;31m---------------------------------------------------------------------------\u001b[0m",
      "\u001b[1;31mAttributeError\u001b[0m                            Traceback (most recent call last)",
      "\u001b[1;32m<ipython-input-50-f7b8104bd458>\u001b[0m in \u001b[0;36m<module>\u001b[1;34m\u001b[0m\n\u001b[0;32m     28\u001b[0m \u001b[0macc\u001b[0m\u001b[1;33m.\u001b[0m\u001b[0mdeposit\u001b[0m\u001b[1;33m(\u001b[0m\u001b[1;36m5000\u001b[0m\u001b[1;33m)\u001b[0m\u001b[1;33m\u001b[0m\u001b[1;33m\u001b[0m\u001b[0m\n\u001b[0;32m     29\u001b[0m \u001b[0macc\u001b[0m\u001b[1;33m.\u001b[0m\u001b[0mwithdraw\u001b[0m\u001b[1;33m(\u001b[0m\u001b[1;36m10000\u001b[0m\u001b[1;33m)\u001b[0m\u001b[1;33m\u001b[0m\u001b[1;33m\u001b[0m\u001b[0m\n\u001b[1;32m---> 30\u001b[1;33m \u001b[0mprint\u001b[0m\u001b[1;33m(\u001b[0m\u001b[0macc\u001b[0m\u001b[1;33m.\u001b[0m\u001b[0m__blance\u001b[0m\u001b[1;33m)\u001b[0m \u001b[1;31m#참조 불가능해서 오류 발생\u001b[0m\u001b[1;33m\u001b[0m\u001b[1;33m\u001b[0m\u001b[0m\n\u001b[0m\u001b[0;32m     31\u001b[0m \u001b[0macc\u001b[0m\u001b[1;33m.\u001b[0m\u001b[0m__info\u001b[0m\u001b[1;33m(\u001b[0m\u001b[1;33m)\u001b[0m \u001b[1;31m#참조 불가능해서 오류 발생\u001b[0m\u001b[1;33m\u001b[0m\u001b[1;33m\u001b[0m\u001b[0m\n",
      "\u001b[1;31mAttributeError\u001b[0m: 'Account' object has no attribute '__blance'"
     ]
    }
   ],
   "source": [
    "# 12-5 코딩\n",
    "\n",
    "class Account:\n",
    "    '''은행 계좌를 표현하는 클래스'''\n",
    "    def __init__(self,name,amount):\n",
    "        self.name=name\n",
    "        self.__balance = amount #비공개 속성\n",
    "        \n",
    "    def __str__(self):\n",
    "        return '예금주 :{} , 잔고 :{}'.format(self.name,self.__balance)\n",
    "    \n",
    "    def __info(self): #비공개 함수 구현\n",
    "        print('\\t',self) #위 메소드 __str__(self) 호출\n",
    "        # print(self.__str__())\n",
    "    \n",
    "    def withdraw(self,amount):\n",
    "        self.__balance -= amount\n",
    "        print('출금 {}원 이후 :'.format(amount))\n",
    "        self.__info()\n",
    "        \n",
    "    def deposit(self,amount):\n",
    "        self.__balance += amount\n",
    "        print('입금 {}원 이후'.format(amount))\n",
    "        self.__info()\n",
    "    \n",
    "acc = Account('이은행',10000)\n",
    "print(acc) # 문자열화 메소드 __str__(self) 호출 \n",
    "acc.deposit(5000)\n",
    "acc.withdraw(10000)\n",
    "print(acc.__blance) #참조 불가능해서 오류 발생\n",
    "acc.__info() #참조 불가능해서 오류 발생 "
   ]
  },
  {
   "cell_type": "code",
   "execution_count": 51,
   "metadata": {},
   "outputs": [
    {
     "name": "stdout",
     "output_type": "stream",
     "text": [
      "86.00\n",
      "95\n"
     ]
    }
   ],
   "source": [
    "#정적메소드(static method) 는 객체뿐만아니라 클래스에서 직접 접근할수있다.\n",
    "#정적메소드는 문장위에 @staticmethod 라는 데커레이터로 기술하며 \n",
    "#정적메소드같은경우에는 첫인자 self를 사용할수없기때문에 필요한 인자만 기술하면된다.\n",
    "#self를 사용할수없기 때문에 인스턴스변수나 메소드를 사용할수가없다.\n",
    "\n",
    "class Degree:\n",
    "    \n",
    "    @staticmethod\n",
    "    def tofahrenhite(celsius):\n",
    "        return celsius * 1.8 + 32\n",
    "    \n",
    "     #정적메소드 tofahrenhite는 객체 뿐 아니라 클래스로도 호출할수있다.\n",
    "print('%.2f' % Degree.tofahrenhite(30))\n",
    "d = Degree()\n",
    "print('%2.f' % d.tofahrenhite(35))"
   ]
  },
  {
   "cell_type": "code",
   "execution_count": 56,
   "metadata": {},
   "outputs": [
    {
     "name": "stdout",
     "output_type": "stream",
     "text": [
      "86.00\n",
      "37.78\n",
      "86.00\n",
      "37.78\n"
     ]
    }
   ],
   "source": [
    "#12-6 코딩 \n",
    "\n",
    "class Degree:\n",
    "   \n",
    "    @staticmethod #정적메소드 생성\n",
    "    def tofahrenhite(celsius):\n",
    "        return celsius * 1.8 + 32 \n",
    "    \n",
    "    \n",
    "    @staticmethod #정적메소드생성\n",
    "    def tocelcius(fahrenhite):\n",
    "        return (fahrenhite - 32) / 1.8\n",
    "    \n",
    "print('%.2f' % Degree.tofahrenhite(30)) #클래스이름으로 참조\n",
    "print('%.2f' % Degree.tocelcius(100))\n",
    "    \n",
    "d=Degree()\n",
    "\n",
    "print('%.2f' % d.tofahrenhite(30)) #클래스이름을사용한 객체이름으로 참조.\n",
    "print('%.2f' % d.tocelcius(100)) "
   ]
  },
  {
   "cell_type": "code",
   "execution_count": 60,
   "metadata": {},
   "outputs": [
    {
     "name": "stdout",
     "output_type": "stream",
     "text": [
      "32.153600000000004\n",
      "94.985\n"
     ]
    }
   ],
   "source": [
    "#클래스 메소드 \n",
    "#지금까지 배웠던 정적메소드는 @staticmethod 로 기술하는데\n",
    "#클래스메소드는 @classmethod 로 기술한다.\n",
    "\n",
    "#클래스메소드는 첫인자로 관례상 cls를 받으며 cls에는 클래스자체가들어온다. cls통해 클래스변수에 접근할수있게된다.\n",
    "#클래스메소드도 마찬가지로 self를 사용할수없기때문에 인스턴스변수,메소드를 사용할수없다.\n",
    "#클래스메소드나 정적메소드같은경우네는 인스턴스변수를 참조할필요없는경우, 클래스에서 직접 접근할수있는 메소드이다.\n",
    "\n",
    "#클래스메소드도 클래스이름.클래스메소드이름 으로 참조하거나 클래스이름객체로도 참조할수있다.\n",
    "class Shape:\n",
    "    PI = 3.14\n",
    "    \n",
    "    @classmethod\n",
    "    def circlearea(cls,r):\n",
    "        return r*r*cls.PI\n",
    "\n",
    "print(Shape.circlearea(3.2)) #클래스이름으로 접근\n",
    "\n",
    "s1 = Shape()\n",
    "print(s1.circlearea(5.5)) #클래스이름으로만든 객체로 접근 "
   ]
  },
  {
   "cell_type": "code",
   "execution_count": 63,
   "metadata": {},
   "outputs": [
    {
     "name": "stdout",
     "output_type": "stream",
     "text": [
      "32.17\n",
      "20.11\n",
      "32.17\n",
      "20.11\n"
     ]
    }
   ],
   "source": [
    "#12-7 코딩 \n",
    "\n",
    "class Shape:\n",
    "    PI = 3.141592 # 원주율 , 클래스변수 선언\n",
    "    \n",
    "    @classmethod\n",
    "    def circlearea(cls,r):\n",
    "        return r*r*cls.PI\n",
    "    \n",
    "    @staticmethod\n",
    "    def circleperimeter(r):\n",
    "        return 2*r*Shape.PI #Shape.PI 로 클래스변수에 접근 \n",
    "    \n",
    "    \n",
    "print('%.2f' % Shape.circlearea(3.2))\n",
    "print('%.2f' % Shape.circleperimeter(3.2)) #클래스 이름 접근\n",
    "    \n",
    "s = Shape()\n",
    "    \n",
    "print('%.2f' % s.circlearea(3.2))\n",
    "print('%.2f' % s.circleperimeter(3.2)) #클래스이름의 객체로 접근         "
   ]
  },
  {
   "cell_type": "code",
   "execution_count": 65,
   "metadata": {},
   "outputs": [
    {
     "name": "stdout",
     "output_type": "stream",
     "text": [
      "안녕하세요 전 부모에요\n"
     ]
    }
   ],
   "source": [
    "#파이썬도 다른 객체지향프로그래밍과같이 상속이 가능하다.\n",
    "#상속을통해 자식클래스는 부모클래스에 정의되어있는 변수나 메소드를 사용할수있다.\n",
    "#이는중복허용을 줄이고 필요하다면 수정도 할수있다.\n",
    "\n",
    "#파이썬에서의 모든 최상위 클래스는 object 이다\n",
    "\n",
    "#부모클래스를 지정하지않은 모든클래스의 부모는 object이다.\n",
    "\n",
    "#파이썬에서의 자식클래스설정은\n",
    "class Robot:\n",
    "    def hello(self):\n",
    "        print(\"안녕하세요 전 부모에요\")\n",
    "class HumornoiRobot(Robot): #클래스명(부모클래스명) 으로 지정하면 자식클래스가생성된다.\n",
    "    def hi(self):\n",
    "        print(\"안녕하세요 전 자식이에요\")\n",
    "        \n",
    "#상속을 받은다음에 자식은 부모의 변수나 메소드를 사용할수있게된다.\n",
    "\n",
    "h = HumornoiRobot() #자식클래스의 객체생성\n",
    "h.hello() #자식클래스의객체로 부모의 메소드를 실행해보겠다."
   ]
  },
  {
   "cell_type": "code",
   "execution_count": 72,
   "metadata": {},
   "outputs": [
    {
     "name": "stdout",
     "output_type": "stream",
     "text": [
      "전 로봇으로인간에게 해를 입혀서는 안 됩니다.\n",
      "전 로봇입니다.\n",
      "아사모는 사람처럼 말을 할 수 있습니다.\n",
      "인간\n"
     ]
    }
   ],
   "source": [
    "#12-8 코딩\n",
    "\n",
    "class Robot:\n",
    "    # laws = \"인간\" 클래스변수생성\n",
    "    def __init__(self):\n",
    "        self.laws = '인간에게 해를 입혀서는 안 됩니다.'\n",
    "    \n",
    "    def hello(self):\n",
    "        print('전 로봇입니다.')\n",
    "        \n",
    "    def __str__(self):\n",
    "        return '전 로봇으로' + self.laws\n",
    "\n",
    "class HumornoiRobot(Robot):\n",
    "    def __init__(self,name):\n",
    "        self.name=name\n",
    "        \n",
    "    def speak(self):\n",
    "        print('%s는 사람처럼 말을 할 수 있습니다.' % self.name)\n",
    "        \n",
    "roboi = Robot()\n",
    "print(roboi)\n",
    "\n",
    "hr = HumornoiRobot('아사모') #자식클래스객체생성\n",
    "hr.hello() # 부모 메소드 호출\n",
    "hr.speak() # 자신 메소드 호출 \n",
    "\n",
    "#print(hr.laws) \n",
    "#오류 발생 !! 주석처리되어있는 클래스메소드를 Robot에서생성하면 사용이가능하다. \n",
    "#laws가 지금 Robot자신의변수(self.instance객체로) 생성되어있어서 자신만 사용할수있다.\n"
   ]
  },
  {
   "cell_type": "code",
   "execution_count": 75,
   "metadata": {},
   "outputs": [
    {
     "name": "stdout",
     "output_type": "stream",
     "text": [
      "안녕하세요!  가수 방탄소년단 입니다!\n",
      "우린 KPOP 그룹으로 7 명입니다.\n",
      "데뷔한지 8 년이 되었네요.\n"
     ]
    }
   ],
   "source": [
    "#자식이 부모의 메소드와 객체를 반환받기위해서.\n",
    "#내장함수 super()를 활용한다.\n",
    "\n",
    "#class Singer:\n",
    "#    def __init__(self,name,debut):\n",
    "#       self.name = name\n",
    "#        self.debut = debut  #으로 생성되어있을경우\n",
    "#class Kpop(Singer):\n",
    "#    def __init__(self,name,debut,cnt):\n",
    "#        super().__init__(name,debut) #정의된 부모의 초기화메소드를 가져다가 사용 \n",
    "#        self.name , self.debut 을 쓸필요가없다는이야기다. \n",
    "#        self.cnt=cnt\n",
    "\n",
    "#super() 는 상위클래스의 객체를 반환하는 함수이다. \n",
    "#호출할때에는 super().부모메소드명() 으로 호출하며\n",
    "#이름이 같을경우에는 super()로 사용가능하고\n",
    "#이름이 다를경우에는 super().메소드명() 으로사용\n",
    "\n",
    "#*************************************************#\n",
    "#메소드 재정의 (메소드 오버라이딩)\n",
    "#부모의 메소드를 자식에서 재정의하는것\n",
    "\n",
    "#class Singer:\n",
    "#     def introduce(self):\n",
    "#              print(\"안녕하세요 가수 %s입니다\" % self.name)\n",
    "\n",
    "#class Kpop(Singer):\n",
    "#     def introduce(self):\n",
    "#     super().introduce() #부모의 introduce메소드를 불러온다.\n",
    "#     print('우린 kpop 그룹으로 %d명으로 구성되어있습니다.' % self.cnt)            <<< #메소드 재정의 오버라이딩 \n",
    "\n",
    "#bts = Kpop('BTS',2013,7) \n",
    "#bts.introduce() 를 실행하면 부모클래스의 introduce는 실행되지않고 자식의introduce가 실행된다. \n",
    "\n",
    "#12-9를 한번 코딩해보자\n",
    "\n",
    "class Singer:\n",
    "    def __init__(self,name,debut):\n",
    "        self.name = name\n",
    "        self.debut = debut\n",
    "        \n",
    "    def introduce(self):\n",
    "        print('안녕하세요!  가수 %s 입니다!' % self.name)\n",
    "        \n",
    "    def age(self):\n",
    "        print('데뷔한지 %d 년이 되었네요.' % (2020-self.debut +1))\n",
    "    \n",
    "class Kpop(Singer):\n",
    "    def __init__(self,name,debut,cnt):\n",
    "        super().__init__(name,debut) #부모의 초기화 메소드 호출\n",
    "        #self.name = name\n",
    "        #self.debut = debut 부모가 초기화했었던 메소드를호출했기때문에 다시한번 정의할필요가없다.\n",
    "        self.cnt = cnt\n",
    "    \n",
    "    def introduce(self): #메소드 오버라이딩\n",
    "        super().introduce() #부모 메소드 호출\n",
    "        print('우린 KPOP 그룹으로 %d 명입니다.' % self.cnt) #부모메소드를 이렇게재정의 \n",
    "\n",
    "bts = Kpop('방탄소년단',2013,7)\n",
    "bts.introduce() #메소드오버라이딩된 함수를 호출 오버라이딩시 부모는 무시하고 자식이정의한함수가 호출된다. . \n",
    "bts.age() #부모의 age함수를 가져다가 호출 \n"
   ]
  },
  {
   "cell_type": "code",
   "execution_count": 77,
   "metadata": {},
   "outputs": [
    {
     "name": "stdout",
     "output_type": "stream",
     "text": [
      "최우수\n"
     ]
    }
   ],
   "source": [
    "class Student:\n",
    "    pass\n",
    "\n",
    "i = Student()\n",
    "i.name = '최우수'\n",
    "print(i.name)"
   ]
  },
  {
   "cell_type": "code",
   "execution_count": 80,
   "metadata": {},
   "outputs": [
    {
     "name": "stdout",
     "output_type": "stream",
     "text": [
      "8\n",
      "2\n"
     ]
    }
   ],
   "source": [
    "class Integer:\n",
    "    def __init__(self,value):\n",
    "        self.value = value\n",
    "    \n",
    "    def __add__(self,other):\n",
    "        return self.value + other.value\n",
    "\n",
    "    def __sub__(self,other):\n",
    "        return self.value - other.value\n",
    "    \n",
    "\n",
    "a=Integer(5)\n",
    "b=Integer(3)\n",
    "\n",
    "print(a+b)\n",
    "print(a-b)"
   ]
  },
  {
   "cell_type": "code",
   "execution_count": 88,
   "metadata": {},
   "outputs": [
    {
     "name": "stdout",
     "output_type": "stream",
     "text": [
      "28.26\n",
      "3\n",
      "3.14\n"
     ]
    }
   ],
   "source": [
    "class Circle:\n",
    "    \n",
    "    PI = 3.14\n",
    "\n",
    "    def __init__(self,radius):\n",
    "        self.radius = radius\n",
    "        \n",
    "    def area(self):\n",
    "        return self.radius * self.radius * Circle.PI\n",
    "    \n",
    "c = Circle(3)\n",
    "print(c.area())\n",
    "print(c.radius)\n",
    "print(Circle.PI)"
   ]
  },
  {
   "cell_type": "code",
   "execution_count": 89,
   "metadata": {},
   "outputs": [
    {
     "name": "stdout",
     "output_type": "stream",
     "text": [
      "개:멍멍이\n"
     ]
    }
   ],
   "source": [
    "class Animal:\n",
    "    def __init__(self,species):\n",
    "        self.species = species\n",
    "        \n",
    "    def __str__(self):\n",
    "        return self.species\n",
    "    \n",
    "class Dog(Animal):\n",
    "    def __init__(self,name):\n",
    "        super().__init__('개') #부모의 초기화 메소드 호출 \n",
    "        self.name = name\n",
    "        \n",
    "    def __str__(self):\n",
    "        return super().__str__() + \":\" + self.name\n",
    "    \n",
    "d = Dog('멍멍이')\n",
    "print(d)"
   ]
  },
  {
   "cell_type": "code",
   "execution_count": null,
   "metadata": {},
   "outputs": [],
   "source": []
  }
 ],
 "metadata": {
  "kernelspec": {
   "display_name": "Python 3",
   "language": "python",
   "name": "python3"
  },
  "language_info": {
   "codemirror_mode": {
    "name": "ipython",
    "version": 3
   },
   "file_extension": ".py",
   "mimetype": "text/x-python",
   "name": "python",
   "nbconvert_exporter": "python",
   "pygments_lexer": "ipython3",
   "version": "3.7.3"
  }
 },
 "nbformat": 4,
 "nbformat_minor": 2
}
