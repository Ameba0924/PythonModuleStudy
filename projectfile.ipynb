{
 "cells": [
  {
   "cell_type": "code",
   "execution_count": 1,
   "metadata": {
    "scrolled": true
   },
   "outputs": [
    {
     "name": "stdout",
     "output_type": "stream",
     "text": [
      "Enter First Number:12\n",
      "Enter Second Number:5\n",
      "12 / 5 ==> 2.4\n",
      "12 % 5 ==> 2\n",
      "12 // 5 ==> 2\n",
      "12 ** 5 ==> 248832\n"
     ]
    }
   ],
   "source": [
    "num1=int(input(\"Enter First Number:\"))\n",
    "num2=int(input(\"Enter Second Number:\"))\n",
    "print(num1,'/',num2,'==>',(num1/num2))\n",
    "print(num1,'%',num2,'==>',(num1%num2))\n",
    "print(num1,'//',num2,'==>',(num1//num2))\n",
    "print(num1,'**',num2,'==>',(num1**num2))"
   ]
  },
  {
   "cell_type": "code",
   "execution_count": 2,
   "metadata": {
    "scrolled": true
   },
   "outputs": [
    {
     "name": "stdout",
     "output_type": "stream",
     "text": [
      "네 자릿수 정수 입력하세요 >>12345\n"
     ]
    },
    {
     "data": {
      "text/plain": [
       "'54321'"
      ]
     },
     "execution_count": 2,
     "metadata": {},
     "output_type": "execute_result"
    }
   ],
   "source": [
    "array = list()\n",
    "array = input(\"네 자릿수 정수 입력하세요 >>\")\n",
    "array[::-1]"
   ]
  },
  {
   "cell_type": "code",
   "execution_count": 3,
   "metadata": {
    "scrolled": false
   },
   "outputs": [
    {
     "name": "stdout",
     "output_type": "stream",
     "text": [
      "실수 두개 입력 >>5.4 2.7\n",
      "5.4 > 2.7 결과 : True\n",
      "5.4 >= 결과 : True\n",
      "5.4 < 2.7 결과 : False\n",
      "5.4 <= 2.7 결과 : False\n",
      "5.4 == 2.7 결과 : False\n",
      "5.4 != 2.7 결과 : True\n"
     ]
    }
   ],
   "source": [
    "num1,num2=input(\"실수 두개 입력 >>\").split()\n",
    "\n",
    "num1=float(num1)\n",
    "num2=float(num2)\n",
    "print(num1,'>',num2,'결과 :',(num1>num2))\n",
    "print(num1,'>=','결과 :',(num1>=num2))\n",
    "print(num1,'<',num2,'결과 :',(num1<num2))\n",
    "print(num1,'<=',num2,'결과 :',(num1<=num2))\n",
    "print(num1,'==',num2,'결과 :',(num1==num2))\n",
    "print(num1,'!=',num2,'결과 :',(num1!=num2))"
   ]
  },
  {
   "cell_type": "code",
   "execution_count": 4,
   "metadata": {},
   "outputs": [
    {
     "name": "stdout",
     "output_type": "stream",
     "text": [
      "정수 입력 >>67\n",
      "2의 지수승 입력 >>3\n",
      "\n",
      "정수  67 >>  3 , 결과 : 536\n",
      "정수  67 *  2 ** 3 , 결과 : 536\n",
      "2진수(32비트) :                          1000011 정수 : 67\n",
      "2진수(32비트) :                       1000011000 정수 : 67 << 3 \n",
      "2진수(32비트) :                       1000011000 정수 : 67 * 2**3\n"
     ]
    }
   ],
   "source": [
    "num1=input('정수 입력 >>')\n",
    "num2=input('2의 지수승 입력 >>')\n",
    "print()\n",
    "print('정수 ',num1 ,'>> ',num2,', 결과 :',(int(num1)<<int(num2)))\n",
    "print('정수 ',num1 ,'* ','2 **',num2,', 결과 :',(int(num1) * (2**int(num2))))\n",
    "print('2진수(32비트) : %32s 정수 : %s' %(format(int(num1),'b'),num1))\n",
    "print('2진수(32비트) : %32s 정수 : %s << %s ' %(format(int(num1)<<int(num2),'b'),num1,num2))\n",
    "print('2진수(32비트) : %32s 정수 : %s * 2**%s' %(format(int(num1) * (2**int(num2)),'b'),num1,num2))\n"
   ]
  },
  {
   "cell_type": "code",
   "execution_count": 4,
   "metadata": {},
   "outputs": [
    {
     "name": "stdout",
     "output_type": "stream",
     "text": [
      "33  *  85  =  2805\n",
      "계속 y / n ?y\n",
      "93  *  34  =  3162\n",
      "\n",
      "계속 y / n ?y\n",
      "100  *  52  =  5200\n",
      "\n",
      "계속 y / n ?n\n"
     ]
    }
   ],
   "source": [
    "from random import randint\n",
    "\n",
    "num1 = randint(1,100)\n",
    "num2 = randint(1,100)\n",
    "print(num1,' * ',num2, ' = ' , num1*num2)\n",
    "while True:\n",
    "    ask = input(\"계속 y / n ?\")\n",
    "    if ask == 'y':\n",
    "        num1 = randint(1,100)\n",
    "        num2 = randint(1,100)\n",
    "        print(num1,' * ',num2, ' = ' , num1*num2)\n",
    "        print()\n",
    "    elif ask=='n':\n",
    "        break;\n",
    "    else :\n",
    "        print(\"입력이 잘못되었습니다 다시 입력해주세요.\")\n"
   ]
  },
  {
   "cell_type": "code",
   "execution_count": 1,
   "metadata": {},
   "outputs": [
    {
     "name": "stdout",
     "output_type": "stream",
     "text": [
      "첫 값은 60 이다\n",
      "산술 연산자의 종류를 입력하세요.>>-\n",
      "두번째 피연산자를 입력하세요.>>30\n",
      "60  -  30  =  30\n",
      "\n",
      "산술 연산자의 종류를 입력하세요.>>--\n",
      "두번째 피연산자를 입력하세요.>>30\n",
      "****종료****\n"
     ]
    }
   ],
   "source": [
    "from random import randint\n",
    "num1 = randint(1,99)\n",
    "print(\"첫 값은 %d 이다\" %num1)\n",
    "while True:\n",
    "    \n",
    "    result = input(\"산술 연산자의 종류를 입력하세요.>>\")\n",
    "    \n",
    "    num2 = int(input(\"두번째 피연산자를 입력하세요.>>\"))\n",
    "    \n",
    "    if result == '+' :\n",
    "        print(num1,' + ',num2,' = ',num1+num2)\n",
    "        print()\n",
    "    elif result == '-' :\n",
    "        print(num1,' - ',num2, ' = ',num1-num2)\n",
    "        print()\n",
    "    elif result == '*' :\n",
    "        print(num1,' * ',num2, ' = ',num1*num2)\n",
    "        print()\n",
    "    elif result == '/' :\n",
    "        print(num1,' / ',num2, ' = ',num1/num2)\n",
    "        print()\n",
    "    elif result == '%' :\n",
    "        print(num1, ' % ',num2, ' = ',num1%num2)\n",
    "        print()\n",
    "    else :\n",
    "        print('****종료****')\n",
    "        break;\n"
   ]
  },
  {
   "cell_type": "code",
   "execution_count": 2,
   "metadata": {
    "scrolled": true
   },
   "outputs": [
    {
     "name": "stdout",
     "output_type": "stream",
     "text": [
      "원 행렬(m) 출력:\n",
      "1 2 \n",
      "3 4 \n",
      "5 6 \n",
      "7 8 \n",
      "\n",
      "전치 행렬 출력: \n",
      "1 3 5 7 \n",
      "2 4 6 8 \n"
     ]
    }
   ],
   "source": [
    "array = [[1,2],[3,4],[5,6],[7,8]]\n",
    "\n",
    "print('원 행렬(m) 출력:')\n",
    "for i in range(0,4):\n",
    "    for j in range(0,2):\n",
    "        print('{}'.format(array[i][j]),end=' ')\n",
    "    print()\n",
    "\n",
    "print('\\n전치 행렬 출력: ')\n",
    "\n",
    "for i in range(0,2):\n",
    "    for j in range(0,4):\n",
    "        print('{}'.format(array[j][i]),end=' ')\n",
    "    print()\n"
   ]
  },
  {
   "cell_type": "code",
   "execution_count": 3,
   "metadata": {
    "scrolled": true
   },
   "outputs": [
    {
     "name": "stdout",
     "output_type": "stream",
     "text": [
      "리스트: [94, 17, 33, 51, 79, 42, 45, 23, 47, 95]\n",
      "튜플 : (94, 17, 33, 51, 79, 42, 45, 23, 47, 95)\n",
      "튜플 정련된 리스트: [17, 23, 33, 42, 45, 47, 51, 79, 94, 95]\n",
      "\n",
      "합 : 526 항목수 : 10 \n",
      "최대 : 95 최소 : 17 평균 : 52.6\n"
     ]
    }
   ],
   "source": [
    "from random import randint\n",
    "\n",
    "list = [randint(1,100) for i in range(10)]\n",
    "\n",
    "tlist = tuple(list)\n",
    "sortlist = sorted(tlist)\n",
    "\n",
    "print(\"리스트: {}\".format(list))\n",
    "print(\"튜플 : {}\".format(tlist))\n",
    "print(\"튜플 정련된 리스트: {}\".format(sortlist))\n",
    "print()\n",
    "print(\"합 : {} 항목수 : {} \".format(sum(list),len(list)))\n",
    "print(\"최대 : {} 최소 : {} 평균 : {}\".format(max(list),min(list),(sum(list)/len(list))))\n"
   ]
  },
  {
   "cell_type": "code",
   "execution_count": 1,
   "metadata": {},
   "outputs": [
    {
     "name": "stdout",
     "output_type": "stream",
     "text": [
      "A =  {2, 3, 9, 12, 20}\n",
      "B =  {11, 13, 16, 18, 19}\n",
      "A | B =  {2, 3, 9, 11, 12, 13, 16, 18, 19, 20}\n",
      "A & B =  set()\n",
      "A - B =  {2, 3, 9, 12, 20}\n",
      "A ^ B =  {2, 3, 9, 11, 12, 13, 16, 18, 19, 20}\n"
     ]
    }
   ],
   "source": [
    "from random import sample\n",
    "\n",
    "A = set(sample(list(range(1, 21)), 5))\n",
    "B = set(sample(list(range(1, 21)), 5))\n",
    "print('A = ', A)\n",
    "print('B = ', B)\n",
    "\n",
    "print('A | B = ', A|B)\n",
    "print('A & B = ', A&B)\n",
    "print('A - B = ', A-B)\n",
    "print('A ^ B = ', A^B)"
   ]
  },
  {
   "cell_type": "code",
   "execution_count": 22,
   "metadata": {},
   "outputs": [
    {
     "name": "stdout",
     "output_type": "stream",
     "text": [
      "***********************************\n",
      "철수   영희   승자   이김or비김수\n",
      "***********************************\n",
      "바위   보오   영희      1\n",
      "보오   바위   철수      1\n",
      "바위   보오   영희      2\n",
      "보오   보오   비김      1\n",
      "바위   가위   철수      2\n",
      "보오   보오   비김      2\n",
      "바위   보오   영희      3\n",
      "바위   바위   비김      3\n",
      "바위   바위   비김      4\n",
      "가위   바위   영희      4\n",
      "보오   보오   비김      5\n",
      "가위   바위   영희      5\n",
      "바위   보오   영희      6\n",
      "가위   보오   철수      3\n",
      "가위   보오   철수      4\n",
      "바위   바위   비김      6\n",
      "바위   보오   영희      7\n",
      "보오   가위   영희      8\n",
      "가위   바위   영희      9\n",
      "보오   보오   비김      7\n",
      "\n",
      "총 게임 회수 :20 비긴 횟수 : 7 번\n",
      "철수 승률 : 0.2 %\n",
      "영희 승률 : 0.45 %\n"
     ]
    }
   ],
   "source": [
    "#게임의 회수는 20으로 하고 매번 승자의 승리회수or비긴회수가 출력\n",
    "#마지막에는 비긴회수와 각각의 승률이 출력\n",
    "\n",
    "from random import choice\n",
    "dcs = {'가위':'보오','바위':'가위','보오':'바위'}\n",
    "tit = ['비김','철수','영희','승자','이김or비김수']\n",
    "rsp = ('가위','바위','보오')\n",
    "\n",
    "cswincount =0\n",
    "yhwincount =0\n",
    "csyhsame=0\n",
    "\n",
    "\n",
    "print('*'*35)\n",
    "print('{:4} {:4} {:4} {:4}'.format(tit[1], tit[2], tit[3],tit[4]))\n",
    "print('*'*35)\n",
    "\n",
    "for _ in range(20):\n",
    "    #철수의 결정\n",
    "    cs = choice(rsp)\n",
    "    #영희 결정\n",
    "    yh = choice(rsp)\n",
    "    \n",
    "    #철수와 영희의 결정 출력\n",
    "    print('{:4} {:4}'.format(cs,yh),end=' ')\n",
    "    \n",
    "    #비기는 조건\n",
    "    if cs == yh:\n",
    "        index = 0\n",
    "        csyhsame+=1\n",
    "        print('{:4} {:4}'.format(tit[index],csyhsame))\n",
    "        \n",
    "    #철수가 이기는 조건\n",
    "    elif dcs[cs] == yh:\n",
    "        index = 1\n",
    "        cswincount+=1\n",
    "        print('{:4} {:4}'.format(tit[index],cswincount))\n",
    "    #영희가 이기는 조건\n",
    "    else :\n",
    "        index = 2 #영희 출력\n",
    "        yhwincount+=1\n",
    "        print('{:4} {:4}'.format(tit[index],yhwincount))\n",
    "        \n",
    "\n",
    "print()\n",
    "print(\"총 게임 회수 :20 비긴 횟수 : {} 번\".format(csyhsame))\n",
    "print(\"철수 승률 : {} %\".format(float(cswincount)/20))\n",
    "print(\"영희 승률 : {} %\".format(float(yhwincount)/20))\n",
    "    "
   ]
  },
  {
   "cell_type": "code",
   "execution_count": null,
   "metadata": {},
   "outputs": [],
   "source": []
  },
  {
   "cell_type": "code",
   "execution_count": null,
   "metadata": {},
   "outputs": [],
   "source": []
  }
 ],
 "metadata": {
  "kernelspec": {
   "display_name": "Python 3",
   "language": "python",
   "name": "python3"
  },
  "language_info": {
   "codemirror_mode": {
    "name": "ipython",
    "version": 3
   },
   "file_extension": ".py",
   "mimetype": "text/x-python",
   "name": "python",
   "nbconvert_exporter": "python",
   "pygments_lexer": "ipython3",
   "version": "3.7.3"
  }
 },
 "nbformat": 4,
 "nbformat_minor": 2
}
